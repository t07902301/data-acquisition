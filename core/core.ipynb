{
 "cells": [
  {
   "cell_type": "code",
   "execution_count": 1,
   "metadata": {},
   "outputs": [],
   "source": [
    "import numpy as np \n",
    "import pickle as pkl \n",
    "import os"
   ]
  },
  {
   "cell_type": "markdown",
   "metadata": {},
   "source": [
    "# Create 32x32 data with labels "
   ]
  },
  {
   "cell_type": "code",
   "execution_count": 2,
   "metadata": {},
   "outputs": [],
   "source": [
    "destination_directory = '/home/yiwei/data/core/'\n",
    "pkl_file = open(os.path.join(destination_directory, 'paths.pkl') , 'rb') \n",
    "paths = pkl.load(pkl_file) "
   ]
  },
  {
   "cell_type": "code",
   "execution_count": 3,
   "metadata": {},
   "outputs": [],
   "source": [
    "imgs = np.load(os.path.join(destination_directory, 'core50_imgs.npz'))['x'] "
   ]
  },
  {
   "cell_type": "code",
   "execution_count": 4,
   "metadata": {},
   "outputs": [],
   "source": [
    "\n",
    "import re\n",
    "\n",
    "pattern = r'C_(\\d+)_(\\d+)_(\\d+)\\.png'\n",
    "\n",
    "def parse(filename):\n",
    "    match = re.match(pattern, filename)\n",
    "\n",
    "    if match:\n",
    "        session_num = match.group(1)\n",
    "        obj_num = match.group(2)\n",
    "        frame_seq_id = match.group(3)\n",
    "        return session_num, obj_num, frame_seq_id\n",
    "    else:\n",
    "        print(\"No match found.\")\n",
    "        # AssertionError()"
   ]
  },
  {
   "cell_type": "code",
   "execution_count": 5,
   "metadata": {},
   "outputs": [],
   "source": [
    "filter = r's(\\d+)/o(\\d+)/'\n",
    "def filter_dir(filename):\n",
    "    filename = re.sub(filter, '', filename)\n",
    "    return filename"
   ]
  },
  {
   "cell_type": "code",
   "execution_count": 6,
   "metadata": {},
   "outputs": [],
   "source": [
    "def object2class(obj_id):\n",
    "    return (int(obj_id) - 1) // 5"
   ]
  },
  {
   "cell_type": "code",
   "execution_count": 7,
   "metadata": {},
   "outputs": [],
   "source": [
    "session_ids, obj_ids, frame_ids, class_ids = [], [], [], []\n",
    "for path in paths:\n",
    "    session_id, obj_id, frame_id = parse(filter_dir(path))\n",
    "    session_ids.append(int(session_id) - 1)\n",
    "    obj_ids.append(int(obj_id) - 1)\n",
    "    frame_ids.append(int(frame_id))\n",
    "    class_ids.append(object2class(obj_id))"
   ]
  },
  {
   "cell_type": "markdown",
   "metadata": {},
   "source": [
    "## Resize to 32 x 32"
   ]
  },
  {
   "cell_type": "code",
   "execution_count": 8,
   "metadata": {},
   "outputs": [],
   "source": [
    "from PIL import Image\n",
    "import torchvision.transforms as T"
   ]
  },
  {
   "cell_type": "code",
   "execution_count": 43,
   "metadata": {},
   "outputs": [],
   "source": [
    "img = Image.fromarray(imgs[0])"
   ]
  },
  {
   "cell_type": "code",
   "execution_count": 9,
   "metadata": {},
   "outputs": [],
   "source": [
    "data_32x32 = []\n",
    "for img in imgs:\n",
    "    img = Image.fromarray(img)\n",
    "    resized_imgs = T.Resize(size=32)(img)\n",
    "    resized_imgs = np.asarray(resized_imgs)\n",
    "    data_32x32.append(resized_imgs)"
   ]
  },
  {
   "cell_type": "markdown",
   "metadata": {},
   "source": [
    "## Save to pkl"
   ]
  },
  {
   "cell_type": "code",
   "execution_count": 10,
   "metadata": {},
   "outputs": [],
   "source": [
    "core = {\n",
    "    'data': data_32x32,\n",
    "    'session': session_ids,\n",
    "    'object': obj_ids,\n",
    "    'frame': frame_ids,\n",
    "    'category': class_ids\n",
    "}\n"
   ]
  },
  {
   "cell_type": "code",
   "execution_count": 11,
   "metadata": {},
   "outputs": [],
   "source": [
    "with open('core_data.pkl', 'wb') as f:\n",
    "    pkl.dump(core,f)"
   ]
  },
  {
   "cell_type": "code",
   "execution_count": 56,
   "metadata": {},
   "outputs": [
    {
     "name": "stdout",
     "output_type": "stream",
     "text": [
      "0\n"
     ]
    }
   ],
   "source": [
    "from PIL import Image\n",
    "print(class_ids[10])\n",
    "img = Image.fromarray(data[10])\n",
    "img.save('demo.png')"
   ]
  },
  {
   "cell_type": "code",
   "execution_count": 2,
   "metadata": {},
   "outputs": [],
   "source": [
    "fo = open('core_data.pkl', 'rb')\n",
    "core = pkl.load(fo)"
   ]
  },
  {
   "cell_type": "code",
   "execution_count": 61,
   "metadata": {},
   "outputs": [],
   "source": [
    "cats = [ 6, 8 ]\n",
    "sessions = [i for i in range(11)]\n"
   ]
  },
  {
   "cell_type": "code",
   "execution_count": 57,
   "metadata": {},
   "outputs": [],
   "source": [
    "obj_labels = np.asarray(core['object'])\n",
    "se_labels = np.asarray(core['session'])\n",
    "cat_labels = np.asarray(core['category'])"
   ]
  },
  {
   "cell_type": "code",
   "execution_count": 9,
   "metadata": {},
   "outputs": [],
   "source": [
    "data = np.asarray(core['data'])"
   ]
  },
  {
   "cell_type": "code",
   "execution_count": 10,
   "metadata": {},
   "outputs": [
    {
     "data": {
      "text/plain": [
       "(164866, 32, 32, 3)"
      ]
     },
     "execution_count": 10,
     "metadata": {},
     "output_type": "execute_result"
    }
   ],
   "source": [
    "data.shape"
   ]
  },
  {
   "cell_type": "code",
   "execution_count": 58,
   "metadata": {},
   "outputs": [],
   "source": [
    "def get_subset(dataset_labels, targets, dataset_indices, sample=0):\n",
    "    '''\n",
    "    Find indices of subsets where labels match with targets\n",
    "    '''\n",
    "    results = []\n",
    "    for target in targets:\n",
    "        subset_indicies = dataset_indices[dataset_labels==target]\n",
    "        if sample > 0:\n",
    "            subset_indicies = np.random.choice(subset_indicies, 30, replace=False)\n",
    "        results.append(subset_indicies)\n",
    "    results = np.concatenate(results)\n",
    "    return results"
   ]
  },
  {
   "cell_type": "code",
   "execution_count": 62,
   "metadata": {},
   "outputs": [],
   "source": [
    "indices = np.arange(len(data))\n",
    "\n",
    "sampled_cat_indices = []\n",
    "for cat in cats:\n",
    "    cat_indices = indices[cat_labels==cat]\n",
    "    cat_session_labels = se_labels[cat_indices]\n",
    "\n",
    "    objects = [i + cat * 5 for i in range(5)]\n",
    "\n",
    "    sampled_session_indices = []\n",
    "    for session in sessions: # session labels given a cat\n",
    "\n",
    "        session_indices = cat_indices[cat_session_labels==session]\n",
    "        session_obj_labels = obj_labels[session_indices]\n",
    "\n",
    "        # sampled_object_indices = []\n",
    "        \n",
    "        subset_indices = get_subset(session_obj_labels, objects, session_indices, sample=30) # obj labels given a session\n",
    "        sampled_session_indices.append(subset_indices)\n",
    "    \n",
    "    sampled_session_indices = np.concatenate(sampled_session_indices, axis = 0)\n",
    "\n",
    "    sampled_cat_indices.append(sampled_session_indices)\n",
    "\n",
    "sampled_cat_indices = np.concatenate(sampled_cat_indices, axis = 0)\n",
    "\n",
    "sampled_data = data[sampled_cat_indices]"
   ]
  },
  {
   "cell_type": "code",
   "execution_count": 63,
   "metadata": {},
   "outputs": [
    {
     "data": {
      "text/plain": [
       "array([30, 31, 32, 33, 34, 40, 41, 42, 43, 44])"
      ]
     },
     "execution_count": 63,
     "metadata": {},
     "output_type": "execute_result"
    }
   ],
   "source": [
    "np.unique(obj_labels[sampled_cat_indices])"
   ]
  }
 ],
 "metadata": {
  "kernelspec": {
   "display_name": "ffcv",
   "language": "python",
   "name": "python3"
  },
  "language_info": {
   "codemirror_mode": {
    "name": "ipython",
    "version": 3
   },
   "file_extension": ".py",
   "mimetype": "text/x-python",
   "name": "python",
   "nbconvert_exporter": "python",
   "pygments_lexer": "ipython3",
   "version": "3.8.13"
  },
  "orig_nbformat": 4
 },
 "nbformat": 4,
 "nbformat_minor": 2
}
