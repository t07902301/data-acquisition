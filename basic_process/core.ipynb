{
 "cells": [
  {
   "cell_type": "code",
   "execution_count": 1,
   "metadata": {},
   "outputs": [],
   "source": [
    "import numpy as np \n",
    "import pickle as pkl \n",
    "import os"
   ]
  },
  {
   "cell_type": "markdown",
   "metadata": {},
   "source": [
    "# Create 32x32 data with labels "
   ]
  },
  {
   "cell_type": "code",
   "execution_count": 2,
   "metadata": {},
   "outputs": [],
   "source": [
    "destination_directory = '' # the path to where the downloads are saved. http://bias.csr.unibo.it/maltoni/download/core50/core50_imgs.npz and https://vlomonaco.github.io/core50/data/paths.pkl\n",
    "pkl_file = open(os.path.join(destination_directory, 'paths.pkl') , 'rb') \n",
    "paths = pkl.load(pkl_file) "
   ]
  },
  {
   "cell_type": "code",
   "execution_count": 3,
   "metadata": {},
   "outputs": [],
   "source": [
    "imgs = np.load(os.path.join(destination_directory, 'core50_imgs.npz'))['x'] "
   ]
  },
  {
   "cell_type": "code",
   "execution_count": 4,
   "metadata": {},
   "outputs": [],
   "source": [
    "\n",
    "import re\n",
    "\n",
    "pattern = r'C_(\\d+)_(\\d+)_(\\d+)\\.png'\n",
    "\n",
    "def parse(filename):\n",
    "    match = re.match(pattern, filename)\n",
    "\n",
    "    if match:\n",
    "        session_num = match.group(1)\n",
    "        obj_num = match.group(2)\n",
    "        frame_seq_id = match.group(3)\n",
    "        return session_num, obj_num, frame_seq_id\n",
    "    else:\n",
    "        print(\"No match found.\")\n",
    "        # AssertionError()"
   ]
  },
  {
   "cell_type": "code",
   "execution_count": 5,
   "metadata": {},
   "outputs": [],
   "source": [
    "filter = r's(\\d+)/o(\\d+)/'\n",
    "def filter_dir(filename):\n",
    "    filename = re.sub(filter, '', filename)\n",
    "    return filename"
   ]
  },
  {
   "cell_type": "code",
   "execution_count": 6,
   "metadata": {},
   "outputs": [],
   "source": [
    "def object2class(obj_id):\n",
    "    return (int(obj_id) - 1) // 5"
   ]
  },
  {
   "cell_type": "code",
   "execution_count": 7,
   "metadata": {},
   "outputs": [],
   "source": [
    "session_ids, obj_ids, frame_ids, class_ids = [], [], [], []\n",
    "for path in paths:\n",
    "    session_id, obj_id, frame_id = parse(filter_dir(path))\n",
    "    session_ids.append(int(session_id) - 1)\n",
    "    obj_ids.append(int(obj_id) - 1)\n",
    "    frame_ids.append(int(frame_id))\n",
    "    class_ids.append(object2class(obj_id))"
   ]
  },
  {
   "cell_type": "markdown",
   "metadata": {},
   "source": [
    "## Resize to 32 x 32"
   ]
  },
  {
   "cell_type": "code",
   "execution_count": 8,
   "metadata": {},
   "outputs": [],
   "source": [
    "from PIL import Image\n",
    "import torchvision.transforms as T"
   ]
  },
  {
   "cell_type": "code",
   "execution_count": 43,
   "metadata": {},
   "outputs": [],
   "source": [
    "img = Image.fromarray(imgs[0])"
   ]
  },
  {
   "cell_type": "code",
   "execution_count": 9,
   "metadata": {},
   "outputs": [],
   "source": [
    "data_32x32 = []\n",
    "for img in imgs:\n",
    "    img = Image.fromarray(img)\n",
    "    resized_imgs = T.Resize(size=32)(img)\n",
    "    resized_imgs = np.asarray(resized_imgs)\n",
    "    data_32x32.append(resized_imgs)"
   ]
  },
  {
   "cell_type": "markdown",
   "metadata": {},
   "source": [
    "## Save to pkl"
   ]
  },
  {
   "cell_type": "code",
   "execution_count": 10,
   "metadata": {},
   "outputs": [],
   "source": [
    "core = {\n",
    "    'data': data_32x32,\n",
    "    'session': session_ids,\n",
    "    'object': obj_ids,\n",
    "    'frame': frame_ids,\n",
    "    'category': class_ids\n",
    "}\n"
   ]
  },
  {
   "cell_type": "code",
   "execution_count": 11,
   "metadata": {},
   "outputs": [],
   "source": [
    "with open('core_data.pkl', 'wb') as f:\n",
    "    pkl.dump(core,f)"
   ]
  }
 ],
 "metadata": {
  "kernelspec": {
   "display_name": "ffcv",
   "language": "python",
   "name": "python3"
  },
  "language_info": {
   "codemirror_mode": {
    "name": "ipython",
    "version": 3
   },
   "file_extension": ".py",
   "mimetype": "text/x-python",
   "name": "python",
   "nbconvert_exporter": "python",
   "pygments_lexer": "ipython3",
   "version": "3.8.13"
  },
  "orig_nbformat": 4
 },
 "nbformat": 4,
 "nbformat_minor": 2
}
